{
 "cells": [
  {
   "cell_type": "code",
   "execution_count": null,
   "id": "c696cb15",
   "metadata": {},
   "outputs": [],
   "source": [
    "import matplotlib.pyplot as plt\n",
    "import pathlib\n",
    "from utils import read_im, save_im\n",
    "output_dir = pathlib.Path(\"image_solutions\")\n",
    "output_dir.mkdir(exist_ok=True)"
   ]
  },
  {
   "cell_type": "code",
   "execution_count": null,
   "id": "9f5cfaab",
   "metadata": {},
   "outputs": [],
   "source": [
    "im = read_im(pathlib.Path(\"images\", \"lake.jpg\"))\n",
    "plt.imshow(im)"
   ]
  },
  {
   "cell_type": "markdown",
   "id": "4ee11c88",
   "metadata": {},
   "source": [
    "## Task 2a"
   ]
  },
  {
   "cell_type": "code",
   "execution_count": null,
   "id": "1126db5a",
   "metadata": {},
   "outputs": [],
   "source": [
    "def greyscale(im):\n",
    "    \"\"\" Converts an RGB image to greyscale\n",
    "    \n",
    "    Args:\n",
    "        im ([type]): [np.array of shape [H, W, 3]]\n",
    "    \n",
    "    Returns:\n",
    "        im ([type]): [np.array of shape [H, W]]\n",
    "    \"\"\"\n",
    "\n",
    "    return im"
   ]
  },
  {
   "cell_type": "code",
   "execution_count": null,
   "id": "5d58585b",
   "metadata": {},
   "outputs": [],
   "source": [
    "im_greyscale = greyscale(im)\n",
    "save_im(output_dir.joinpath(\"lake_greyscale.jpg\"), im_greyscale, cmap=\"gray\")\n",
    "plt.imshow(im_greyscale, cmap=\"gray\")"
   ]
  },
  {
   "cell_type": "markdown",
   "id": "b1287952",
   "metadata": {},
   "source": [
    "## Task 2b"
   ]
  },
  {
   "cell_type": "code",
   "execution_count": null,
   "id": "151c7c1b",
   "metadata": {},
   "outputs": [],
   "source": [
    "def inverse(im):\n",
    "    \"\"\" Finds the inverse of the greyscale image\n",
    "    \n",
    "    Args:\n",
    "        im ([type]): [np.array of shape [H, W]]\n",
    "    \n",
    "    Returns:\n",
    "        im ([type]): [np.array of shape [H, W]]\n",
    "    \"\"\"    \n",
    "     # YOUR CODE HERE\n",
    "    return im"
   ]
  }
 ],
 "metadata": {
  "kernelspec": {
   "display_name": "Python 3",
   "language": "python",
   "name": "python3"
  },
  "language_info": {
   "codemirror_mode": {
    "name": "ipython",
    "version": 3
   },
   "file_extension": ".py",
   "mimetype": "text/x-python",
   "name": "python",
   "nbconvert_exporter": "python",
   "pygments_lexer": "ipython3",
   "version": "3.8.8"
  }
 },
 "nbformat": 4,
 "nbformat_minor": 5
}
